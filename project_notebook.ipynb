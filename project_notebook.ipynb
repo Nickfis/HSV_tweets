{
 "cells": [
  {
   "cell_type": "markdown",
   "metadata": {},
   "source": [
    "## Jupyter Notebook for complete sentiment analysis\n",
    "Starting with training a classifier on the Sentiment140 database, showing its strength in classifying.\n",
    "Then as a more sophisticated project at the end I will train a neural network as classifier by taking into account word embeddings to further improve the results. Then use the best classifier to work on the previously aquired HSV tweets dataset, to gain insight into fans sentiment during the 2017/2018 season. "
   ]
  },
  {
   "cell_type": "code",
   "execution_count": null,
   "metadata": {},
   "outputs": [],
   "source": []
  }
 ],
 "metadata": {
  "kernelspec": {
   "display_name": "Python 3",
   "language": "python",
   "name": "python3"
  },
  "language_info": {
   "codemirror_mode": {
    "name": "ipython",
    "version": 3
   },
   "file_extension": ".py",
   "mimetype": "text/x-python",
   "name": "python",
   "nbconvert_exporter": "python",
   "pygments_lexer": "ipython3",
   "version": "3.6.5"
  }
 },
 "nbformat": 4,
 "nbformat_minor": 2
}
